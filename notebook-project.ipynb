{
 "cells": [
  {
   "cell_type": "code",
   "execution_count": 1,
   "id": "25173491",
   "metadata": {},
   "outputs": [
    {
     "data": {
      "text/plain": [
       "\"\\nIn this project, we'll build a simple application \\nto explore some properties of a used car dataset\\n\\n\""
      ]
     },
     "execution_count": 1,
     "metadata": {},
     "output_type": "execute_result"
    }
   ],
   "source": [
    "'''\n",
    "In this project, we'll build a simple application \n",
    "to explore some properties of a used car dataset\n",
    "\n",
    "'''"
   ]
  },
  {
   "cell_type": "code",
   "execution_count": 2,
   "id": "a47dc7e4",
   "metadata": {},
   "outputs": [],
   "source": [
    "import streamlit as st\n",
    "import pandas as pd\n",
    "import plotly.express as px"
   ]
  },
  {
   "cell_type": "code",
   "execution_count": 3,
   "id": "548a6722",
   "metadata": {},
   "outputs": [],
   "source": [
    "df = pd.read_csv('c:/users/admin/sprint4project/vehicles_us.csv')\n",
    "df['manufacturer'] = df['model'].apply(lambda x: x.split()[0])"
   ]
  },
  {
   "cell_type": "code",
   "execution_count": 4,
   "id": "f59bb349",
   "metadata": {},
   "outputs": [
    {
     "name": "stderr",
     "output_type": "stream",
     "text": [
      "2025-01-03 20:45:42.595 \n",
      "  \u001b[33m\u001b[1mWarning:\u001b[0m to view this Streamlit app on a browser, run it with the following\n",
      "  command:\n",
      "\n",
      "    streamlit run C:\\Users\\admin\\anaconda3\\Lib\\site-packages\\ipykernel_launcher.py [ARGUMENTS]\n"
     ]
    },
    {
     "data": {
      "text/plain": [
       "DeltaGenerator()"
      ]
     },
     "execution_count": 4,
     "metadata": {},
     "output_type": "execute_result"
    }
   ],
   "source": [
    "# create a text header above the dataframe\n",
    "st.header('Car Sales Advertisements') \n",
    "\n",
    "# display the dataframe with streamlit\n",
    "st.dataframe(df)"
   ]
  },
  {
   "cell_type": "code",
   "execution_count": 5,
   "id": "355c8437",
   "metadata": {},
   "outputs": [],
   "source": [
    "st.header('Car Condition by Milage')\n",
    "\n",
    "# create a plotly histogram figure\n",
    "fig = px.histogram(df, x='odometer', color='condition')\n",
    "\n",
    "# display the figure with streamlit\n",
    "st.write(fig)"
   ]
  },
  {
   "cell_type": "code",
   "execution_count": 6,
   "id": "b779234d",
   "metadata": {},
   "outputs": [],
   "source": [
    "st.header('Model condition by Year')\n",
    "fig = px.histogram(df, x='model_year', color='condition')\n",
    "st.write(fig)"
   ]
  },
  {
   "cell_type": "code",
   "execution_count": 7,
   "id": "5b265453",
   "metadata": {},
   "outputs": [
    {
     "data": {
      "text/plain": [
       "DeltaGenerator()"
      ]
     },
     "execution_count": 7,
     "metadata": {},
     "output_type": "execute_result"
    }
   ],
   "source": [
    "# Filters\n",
    "manufacturer_filter = st.multiselect(\n",
    "    'Select Manufacturer', options=df['manufacturer'].unique(), default=df['manufacturer'].unique()\n",
    ")\n",
    "min_year, max_year = st.slider('Select Model Year Range', min_value=int(df['model_year'].min()), max_value=int(df['model_year'].max()), value=(int(df['model_year'].min()), int(df['model_year'].max())))\n",
    "price_filter = st.slider('Select Price Range', min_value=int(df['price'].min()), max_value=int(df['price'].max()), value=(int(df['price'].min()), int(df['price'].max())))\n",
    "odometer_filter = st.slider('Select Milage Range', min_value=int(df['odometer'].min()), max_value=int(df['odometer'].max()), value=(int(df['odometer'].min()), int(df['odometer'].max())))\n",
    "\n",
    "# Apply Filters\n",
    "filtered_df = df[\n",
    "    (df['manufacturer'].isin(manufacturer_filter)) &\n",
    "    (df['model_year'] >= min_year) &\n",
    "    (df['model_year'] <= max_year) &\n",
    "    (df['price'] >= price_filter[0]) &\n",
    "    (df['price'] <= price_filter[1]) &\n",
    "    (df['odometer'] >= odometer_filter[0]) &\n",
    "    (df['odometer'] <= odometer_filter[1])\n",
    "]\n",
    "\n",
    "# Display Filtered Table\n",
    "st.write(\"Filtered Table:\")\n",
    "st.dataframe(filtered_df)"
   ]
  }
 ],
 "metadata": {
  "kernelspec": {
   "display_name": "Python 3 (ipykernel)",
   "language": "python",
   "name": "python3"
  },
  "language_info": {
   "codemirror_mode": {
    "name": "ipython",
    "version": 3
   },
   "file_extension": ".py",
   "mimetype": "text/x-python",
   "name": "python",
   "nbconvert_exporter": "python",
   "pygments_lexer": "ipython3",
   "version": "3.12.3"
  }
 },
 "nbformat": 4,
 "nbformat_minor": 5
}
